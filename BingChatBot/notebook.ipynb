{
 "cells": [
  {
   "cell_type": "code",
   "execution_count": 36,
   "metadata": {},
   "outputs": [
    {
     "data": {
      "text/plain": [
       "'The latest Fast and Furious movie is \"F9: The Fast Saga,\" released in 2021.'"
      ]
     },
     "execution_count": 36,
     "metadata": {},
     "output_type": "execute_result"
    }
   ],
   "source": [
    "from langchain import LLMChain, PromptTemplate\n",
    "from langchain.llms import OpenAI\n",
    "\n",
    "llm = OpenAI(temperature=0)\n",
    "\n",
    "template = \"\"\"You are an assistant that answers the following question correctly and honestly: {question}\\n\\n\"\"\"\n",
    "prompt_template = PromptTemplate(input_variables=[\"question\"], template=template)\n",
    "\n",
    "question_chain = LLMChain(llm=llm, prompt=prompt_template)\n",
    "\n",
    "question_chain.run(\"what is the latest fast and furious movie?\")"
   ]
  },
  {
   "cell_type": "code",
   "execution_count": 45,
   "metadata": {},
   "outputs": [
    {
     "name": "stdout",
     "output_type": "stream",
     "text": [
      "\"Velozes e Furiosos 10\": o que sabemos sobre o \"começo do fim\" da ...\n",
      "https://www.correiodopovo.com.br/arteagenda/velozes-e-furiosos-10-o-que-sabemos-sobre-o-come%C3%A7o-do-fim-da-franquia-1.1034073\n",
      "May 17, 2023 ... Parecia que esse momento não chegaria nunca. Finalmente chegou a semana de estreia do novo \"Velozes e Furiosos\". O 10º filme da franquia que ...\n",
      "--------------------------------------------------\n",
      "'Velozes e furiosos': Veja lista com todos os 11 filmes da franquia ...\n",
      "https://g1.globo.com/pop-arte/cinema/noticia/2023/05/18/velozes-e-furiosos-veja-lista-com-todos-os-11-filmes-da-franquia-do-pior-para-o-melhor.ghtml\n",
      "May 18, 2023 ... 3 - 'Velozes e furiosos 7' (2015) ... \"Velozes e furiosos 7\" é o último com a participação de Walker, que morreu dois anos antes em um acidente de ...\n",
      "--------------------------------------------------\n",
      "Velozes & Furiosos 10 - Filme 2023 - AdoroCinema\n",
      "https://www.adorocinema.com/filmes/filme-242871/\n",
      "No décimo filme da série Velozes & Furiosos e último da nova trilogia (Velozes ... Muita coisa mudou desde Velozes & Furiosos, lançado em 2001, com os filmes ...\n",
      "--------------------------------------------------\n",
      "Quando estreia \"Velozes e Furiosos 11\", último filme da franquia ...\n",
      "https://cinebuzz.uol.com.br/noticias/quando-estreia/quando-estreia-velozes-e-furiosos-11.phtml\n",
      "Jun 26, 2023 ... Em uma publicação nas suas redes sociais, o astro, que interpreta Dom Toretto nos longas, adiantou que o novo filme de \"Velozes e Furiosos\", ...\n",
      "--------------------------------------------------\n",
      "Velozes & Furiosos 10 tem data de lançamento oficial: O que já se ...\n",
      "https://www.adorocinema.com/noticias/filmes/noticia-160159/\n",
      "Feb 17, 2023 ... Mais de duas décadas após estrear nas telonas, a franquia estrelada por Vin Diesel se encaminha para seus capítulos finais e o próximo filme já ...\n",
      "--------------------------------------------------\n",
      "Velozes e Furiosos: saiba a ordem certa dos filmes - Olhar Digital\n",
      "https://olhardigital.com.br/2023/06/08/cinema-e-streaming/velozes-e-furiosos-saiba-a-ordem-certa-dos-filmes/\n",
      "Jun 8, 2023 ... Sétimo filme lançado e o sétimo na ordem de Velozes e Furiosos. A equipe de Dom Toretto enfrenta o assassino implacável Deckard Shaw (Jason ...\n",
      "--------------------------------------------------\n",
      "Velozes e Furiosos 11: elenco, sinopse e data de lançamento\n",
      "https://www.terra.com.br/byte/velozes-e-furiosos-11-elenco-sinopse-e-data-de-lancamento,938c0dee3fa610b70320cca92cc15858szc8t3io.html\n",
      "Jun 15, 2023 ... Quem revelou essa informação preciosa foi o próprio Vin Diesel, em seu Instagram, confirmando que o 11º filme da franquia será lançado em abril ...\n",
      "--------------------------------------------------\n",
      "Velozes e Furiosos 10: veja data de lançamento, trailer e sinopse do ...\n",
      "https://www.tecmundo.com.br/minha-serie/263683-velozes-furiosos-10-veja-data-lancamento-trailer-sinopse-filme.htm\n",
      "May 16, 2023 ... O lançamento do filme acontece em dia 19 de maio. Você vai acompanhar a chegada do longa de Velozes e Furiosos aos cinemas? Imagem: Teste Grátis ...\n",
      "--------------------------------------------------\n",
      "Velozes e Furiosos 10 deve ser o último filme da franquia, diz site\n",
      "https://rollingstone.uol.com.br/noticia/velozes-e-furiosos-10-deve-ser-o-ultimo-filme-da-franquia-diz-site/\n",
      "Nov 26, 2019 ... O capítulo final deve ser lançado em 1 de abril de 2021.\n",
      "--------------------------------------------------\n",
      "Quando Velozes e Furiosos 11 vai ser lançado? - Filmes\n",
      "https://www.terra.com.br/diversao/entre-telas/filmes/quando-velozes-e-furiosos-11-vai-ser-lancado,8e6b2ba59960f6876089dc8ddf5abfa96fdpzj7r.html\n",
      "Jun 12, 2023 ... Os fãs da saga Velozes e Furiosos já podem comemorar, pois o décimo primeiro filme da franquia acaba de ganhar data de lançamento.\n",
      "--------------------------------------------------\n"
     ]
    }
   ],
   "source": [
    "from langchain.tools import Tool\n",
    "from langchain.utilities import GoogleSearchAPIWrapper\n",
    "\n",
    "search = GoogleSearchAPIWrapper()\n",
    "TOP_N_RESULTS = 10\n",
    "\n",
    "def top_n_results(query):\n",
    "    return search.results(query, TOP_N_RESULTS)\n",
    "\n",
    "tool = Tool(\n",
    "    name = \"Google Search\",\n",
    "    description=\"Search Google for recent results.\",\n",
    "    func=top_n_results\n",
    ")\n",
    "\n",
    "query = \"Qual é o último filme de velozes e furiosos lançado?\"\n",
    "\n",
    "results = tool.run(query)\n",
    "\n",
    "for result in results:\n",
    "    print(result[\"title\"])\n",
    "    print(result[\"link\"])\n",
    "    print(result[\"snippet\"])\n",
    "    print(\"-\"*50)"
   ]
  },
  {
   "cell_type": "code",
   "execution_count": 60,
   "metadata": {},
   "outputs": [],
   "source": [
    "import newspaper\n",
    "\n",
    "pages_content = []\n",
    "\n",
    "for result in results:\n",
    "\ttry:\n",
    "\t\tarticle = newspaper.Article(result[\"link\"])\n",
    "\t\tarticle.download()\n",
    "\t\tarticle.parse()\n",
    "\t\tif len(article.text) > 0:\n",
    "\t\t\tpages_content.append({ \"url\": result[\"link\"], \"text\": article.text })\n",
    "\texcept:\n",
    "\t\tcontinue"
   ]
  },
  {
   "cell_type": "code",
   "execution_count": 61,
   "metadata": {},
   "outputs": [
    {
     "data": {
      "text/plain": [
       "[{'url': 'https://www.correiodopovo.com.br/arteagenda/velozes-e-furiosos-10-o-que-sabemos-sobre-o-come%C3%A7o-do-fim-da-franquia-1.1034073',\n",
       "  'text': 'publicidade\\n\\nParecia que esse momento não chegaria nunca. Finalmente chegou a semana de estreia do novo \"Velozes e Furiosos\". O 10º filme da franquia que tem Vin Diesel como estrela promete ser maior e melhor que qualquer outro já lançado. E olha que eles já fizeram a proeza de lançar um carro no espaço.\\n\\n\"Velozes e Furiosos 10\" estreia nos cinemas nesta quinta-feira, 18, nas principais salas do País e seguirá um enredo que começou em \"Velozes e Furiosos 5: Operação Rio\".\\n\\nO que sabemos sobre \"Velozes e Furiosos 10\" ?\\n\\nDe cara, o filme foi classificado como o mais caro da franquia, com orçamento estimado em US$ 340 milhões, sendo o terceiro filme mais caro da história do cinema. Segundo o The Wrap o valor se justifica pelo alto salário do elenco, a troca de diretor e as medidas de segurança contra a covid-19. Para se ter uma ideia, o valor é 70% mais alto que o custo final de produção do filme anterior, \"Velozes e Furiosos 9\", que ficou na casa dos US$200 milhões.\\n\\nO longa tem no elenco estrelas como Brie Larson, Jason Momoa, Alan Ritchson, Daniela Melchior e Rita Moreno, que estão estreando na franquia. Isso sem contar os nomes que já faziam parte como Vin Diesel, Charlize Theron, Michelle Rodriguez, Tyrese Gibson, Scott Eastwood, Jordana Brewster e Sung Kang.\\n\\nO filme continuará um enredo iniciado em \"Velozes e Furiosos 5: Operação Rio\", trazendo de volta a vilã Cipher (Charlize Theron). Ela vai recrutar Dante (Jason Momoa) para derrubar Dom Toretto (Vin Diesel) e a família de uma vez por todas. \"Novos aliados se unirão e velhos inimigos ressurgirão. Mas tudo muda quando Dom descobre que seu próprio filho de 8 anos é alvo final da vingança de Dante\", diz a sinopse.\\n\\nMais recente, a filha de Paul Walker, Meadow Walker Thornton-Allan, anunciou que fará uma participação no novo longa. \"Graças ao meu pai, nasci na família Velozes. Mal posso acreditar que agora também estou aqui. Com aqueles que estiveram ao meu redor para me ver crescer (...) Sou tão abençoada por poder honrar o legado de meu pai e compartilhar isso com ele para sempre\", celebrou em uma publicação no Instagram. A modelo, que nasceu em 1998, tinha cerca de 3 anos quando o primeiro filme foi lançado.\\n\\nLudmilla fará participação especial\\n\\nRecentemente, a cantora Ludmilla revelou que fará uma participação especial no filme. Ela anunciou sua presença no filme com um vídeo publicado nas suas redes sociais e mostrou que aparecerá em uma cena que se passa no Brasil. \"Eu dou largada na corrida e ‘roaw’. Aqueles carros passando por mim e aquela loucura toda. Meu Deus, muito bom. Eu estou apaixonada por todo o elenco, toda a equipe. Eu saí mais fã do que já era\", disse.\\n\\nFim da saga?\\n\\nVelozes e Furiosos 10 está sendo apresentado como \"o começo do fim\". A ideia é que a última parte da história seja dividida em duas partes.\\n\\nUm resumo do que já aconteceu em \"Velozes e Furiosos\"\\n\\nO filme que inaugura a franquia foi lançado em 2001 e trazia Paul Walker como o policial novato Brian O’Conner, que se infiltrava no submundo dos \"rachas\" em Los Angeles, nos Estados Unidos. É aí que ele conhece o líder da gangue de corredores, Dominic Toretto (Vin Diesel).\\n\\nA sequência \"Mais Velozes e Mais Furiosos\" traz de volta Paul Walker como Brian. Por conta de problemas com a lei, ele se muda para Miami e ganha a vida participando de corridas de rua. O mocinho receba a missão de derrubar criminoso Carter Verone (Cole Hauser) e faz isso trabalhando mais uma vez como agente infiltrado.\\n\\n\"Velozes e Furiosos: Desafio em Tóquio\" foi lançado em 2006 e, cronologicamente, é uma sequência de <i>Velozes e Furiosos 6</i> (que só seria lançado em 2013). Ele traz a história de Sean Boswell, um piloto de rua que se muda para o Japão para evitar prisão nos Estados Unidos. O filme tem um elenco bem diferente dos dois primeiros.\\n\\n\"Velozes e Furiosos 4\" (2009) volta a reunir Dom (Vin Diesel) e Brian (Paul Walker). Juntos, eles precisam desvendar a suposta morte da namorada de Dom, Letty, interpretada por Michelle Rodriguez, em busca de vingança.\\n\\nO quinto filme da franquia, \"Velozes e Furiosos 5: Operação Rio\", lançado em 2011, traz Walker mais uma vez como Brian. Agora ele é ex-policial e fugitivo da policia, além de parceiro de Dom (Vin Diesel), ambos no lado oposto da lei. A história se passa no Rio de Janeiro e eles precisam fazer um último trabalho para ganhar a liberdade.\\n\\n\"Velozes e Furiosos 6\", lançado em 2013, acompanha Dom e Brian ricos. No entanto, ainda estão com a ficha suja e não podem voltar aos Estados Unidos. Os dois contam com a ajuda do Serviço de Segurança Diplomática (DSS), que promete limpar a ficha de todos da equipe se eles ajudarem a derrubar uma organização criminosa.\\n\\nLançado em 2015, \"Velozes e Furiosos 7\" é uma homenagem póstuma a Paul Walker, que morreu em 2013. No filme, Dom volta para casa ao lado de Letty e sua equipe. A equipe precisa se unir para derrotar a ameaça de Deckard Shaw (Jason Statham), que deseja se vingar da morte do irmão.\\n\\n\"Velozes e Furiosos 8\" (2017) é uma continuação do anterior. A sequência mostra Brian e Mia (Jordana Brewster) aposentados. Dom e Letty têm sua vida pacata em Cuba interrompida pelo surgimento de uma mulher misteriosa que faz Dom retornar ao mundo do crime e da velocidade.\\n\\n\"Velozes e Furiosos: Hobbs & Shaw\", lançado em 2019, acompanha a união dos rivais declarados, Luke Hobbs (Dwayne Johnson) e Deckard Shaw (Jason Statham) para combater uma ameaça biológica que pode mudar toda a humanidade.\\n\\n\"Velozes e Furiosos 9\" foi lançado em 2021 e segue, mais uma vez Dom e Letty, dois anos depois dos acontecimentos de Velozes e Furiosos 8. O último filme lançado da franquia trouxe novamente a vilã do filme de 2017.'},\n",
       " {'url': 'https://g1.globo.com/pop-arte/cinema/noticia/2023/05/18/velozes-e-furiosos-veja-lista-com-todos-os-11-filmes-da-franquia-do-pior-para-o-melhor.ghtml',\n",
       "  'text': \"1 de 9 'Velozes e furiosos': Veja lista com todos os 11 filmes da franquia, do pior para o melhor Divulgação\\n\\n'Velozes e furiosos': Veja lista com todos os 11 filmes da franquia, do pior para o melhor\"},\n",
       " {'url': 'https://www.adorocinema.com/filmes/filme-242871/',\n",
       "  'text': 'Sinopse\\n\\nNão recomendado para menos de 14 anos\\n\\nNo décimo filme da série Velozes & Furiosos e último da nova trilogia (Velozes 8, 9 e 10), ao longo de muitas missões e contra probabilidades que pareciam impossíveis, Dom Toretto (Vin Diesel) e sua família foram mais espertos e superaram todos os inimigos em seu caminho. Agora, eles devem desafiar o adversário mais letal que já enfrentaram. Alimentada pela vingança, uma ameaça terrível emerge das sombras do passado na forma de Dante (Jason Momoa), para destruir o mundo de Toretto e destruir tudo - e todos - que ele ama. Ele então, comandando novamente a equipe de corredores mais conhecida do mundo, encara mais uma difícil missão sobre quatro rodas. O fim da estrada começa e Velozes & Furiosos 10 lança os capítulos finais de uma das franquias globais mais famosas e populares do cinema, agora em sua terceira década e ainda forte com o mesmo elenco e personagens centrais de quando começou.'},\n",
       " {'url': 'https://cinebuzz.uol.com.br/noticias/quando-estreia/quando-estreia-velozes-e-furiosos-11.phtml',\n",
       "  'text': '\"Velozes e Furiosos 10 - Parte 2\" deve encerrar a história de Dom Toretto e sua família nos cinemas\\n\\n\"Velozes e Furiosos 10\" chegou aos cinemas brasileiros em maio deste ano com a proposta de dar início ao fim da história iniciada há mais de duas décadas. Mas quando estreia o 11º e - até então - último capítulo da franquia estrelada por Vin Diesel?\\n\\nEm uma publicação nas suas redes sociais, o astro, que interpreta Dom Toretto nos longas, adiantou que o novo filme de \"Velozes e Furiosos\", batizado de \"Velozes e Furiosos 10 - Parte 2\", chega aos cinemas no dia 4 de abril de 2025.\\n\\n\"Isso é daqui a menos de 22 meses. (...) Para aqueles que não sabiam que \\'Velozes e Furiosos 10\" era só a primeira parte, saibam que a segunda parte será um esforço de nossa família e do estúdio como você nunca viu antes\", escreveu o ator.\\n\\nVer essa foto no Instagram Uma publicação compartilhada por Vin Diesel (@vindiesel)\\n\\nDurante a CinemaCon 2023, que aconteceu em abril em Las Vegas, nos Estados Unidos, a Universal Pictures já havia oficializado o filme, divulgando o título e a previsão de estreia do que, até então, seria o último capítulo da franquia, novamente dirigido por Louis Leterrier, de \"O Incrível Hulk\" (2008), que comandou o décimo filme.\\n\\nNo entanto, durante a estreia de \"Velozes e Furiosos 10\", Vin Diesel indicou que o final da franquia pode ser dividido em três partes, terminando no 12º capítulo, o que ainda não foi confirmado pela Universal Pictures:\\n\\n\"Ao fazer esse filme, o estúdio perguntou se ele poderia ser feito em duas partes. Após o estúdio assistir à parte um, eles perguntaram: \\'vocês poderiam transformar \\'Velozes 10\\', o final, em uma trilogia?\\'\", revelou Diesel.\\n\\nQual foi o melhor filme de 2023 até agora? Vote no seu favorito! \"M3GAN\"\\n\\n\"Batem à Porta\"\\n\\n\"Homem-Formiga e a Vespa: Quantumania\"\\n\\n\"Pearl\"\\n\\n\"Creed III\"\\n\\n\"Pânico 6\"\\n\\n\"Shazam! Fúria dos Deuses\"\\n\\n\"John Wick 4: Baba Yaga\"\\n\\n\"Air: A História por trás do Logo\"\\n\\n\"Super Mario Bros. O Filme\"\\n\\n\"Dungeons & Dragons: Honra Entre Rebeldes\"\\n\\n\"A Morte do Demônio: A Ascensão\"\\n\\n\"Beau Tem Medo\"\\n\\n\"Renfield: Dando Sangue Pelo Chefe\"\\n\\n\"Guardiões da Galáxia: Volume 3\"\\n\\nJá segue o CineBuzz nas redes sociais? Então não perde tempo!'},\n",
       " {'url': 'https://www.adorocinema.com/noticias/filmes/noticia-160159/',\n",
       "  'text': 'Jornalista que ama boas histórias e combina a paixão por cinema e TV com comunicação para mergulhar ainda mais nos universos e personagens que já fazem brilhar os olhos. Pipoca, terror, dramédia e uma pitada de reality são a receita perfeita para todos os dias.\\n\\nVelozes & Furiosos está chegando ao fim e 10º filme da franquia já tem data de lançamento confirmada pelo estúdio.\\n\\nMais de duas décadas após estrear nas telonas, a franquia estrelada por Vin Diesel se encaminha para seus capítulos finais e o próximo filme já está próximo: com o título original de Fast X, Velozes & Furiosos 10 chega aos cinemas em 19 de maio de 2023. Esta será a penúltima produção da saga: Velozes & Furiosos 11 marcará a despedida da história principal e o astro já sabe até qual será a última cena da saga. Confira tudo o que já sabemos até agora.\\n\\nThe Rock saiu de Velozes & Furiosos?\\n\\nUma das principais novidades sobre Velozes & Furiosos 10 é a confirmação de que Dwayne Johnson está realmente fora da franquia principal. A treta entre ele e Vin Diesel é uma das mais famosas do cinema e o lutador já tinha afirmado que não pretendia voltar para os próximos filmes. O martelo foi batido quando o produtor Hiram Garcia afirmou que The Rock está focado na na sequência de Hobbs & Shaw:\\n\\n“Depois de filmar Velozes 8, DJ tomou a decisão clara de fechar o capítulo Velozes & Furiosos por todas as razões evidentes. Ele desejou tudo de bom e mudou nosso foco para outras formas de contar a história. Portanto, embora ele não esteja em Velozes 10 ou 11, isso não interfere de forma alguma em nossos planos para Hobbs”, disse Garcia ao Collider.\\n\\nElenco de Velozes & Furiosos 10\\n\\nApesar da ausência de Dwayne Johnson, outros membros queridos do elenco devem retornar, como Michelle Rodriguez, Jordana Brewster, Tyrese Gibson e Sung Kang - este último, aliás, ressurgiu em Velozes & Furiosos 9 e, com ele, Jason Statham também fez uma participação especial. Resta saber se isso significa que o ator continuará na franquia principal ou se pode indicar parte da trama de Hobbs & Shaw 2.\\n\\nPersonagem de Paul Walker aparecerá no filme\\n\\nEm 2023, completam-se 10 anos da morte trágica de Paul Walker, um dos astros mais memoráveis de Velozes & Furiosos e grande amigo de Vin Diesel, mas a memória do intérprete de Brian O’Conner será homenageada. De acordo com o diretor Louis Leterrier, o personagem retornará agora. Em entrevista ao site TotalFilm, o cineasta deu os primeiros detalhes sobre o retorno do personagem, que será importante para a nova história.\\n\\nNa história de Velozes & Furiosos, Brian O\\'Conner se aposentou para levar uma vida mais tranquila e pacífica ao lado da família e, depois de já ter sido mencionado nos filmes anteriores, agora, deve retornar em Velozes & Furiosos 10. “O que James Wan fez no final de [Velozes e Furiosos] 7 foi perfeito”, disse Leterrier, que, na mesma entrevista, enfatizou a importância de definir o tom certo para um momento tão importante como esse.\\n\\n“Brian precisa voltar para a franquia de maneira tão perfeita quanto foi sua despedida\", continuou o cineasta, relembrando a cena em que vemos os caminhos de Brian e Toretto se separarem – e também, simbolicamente, os de Paul Walker e Vin Diesel. Na época, uma mistura de animação digital e uso de dublê foi usada para retratar o ator da maneira mais realista possível. Por enquanto, ainda não foram revelados detalhes sobre como o personagem será reconstruído em Velozes & Furiosos 10, mas é possível que suas aparições surjam em formato de flashback. “Vocês verão Brian no passado, não no presente”, pontuou Leterrier.\\n\\nJason Momoa será vilão em Velozes & Furiosos 10\\n\\nJason Momoa vai interpretar o papel do vilão Dante no novo filme. Como o trailer adianta, ele é filho de Hernan Reis (Joaquim de Almeida), traficante brasileiro que foi morto por Dominic Toretto e sua equipe em Velozes & Furiosos 5: Operação Rio. No filme de 2011, os protagonistas desmontaram um império de operações ilegais no Rio de Janeiro e a nova aventura vai mostrar que Dante testemunhou tudo o que aconteceu e que, quer vigança.\\n\\n\"É o momento da minha vida. Finalmente posso ser o cara mau. Eu tenho sido o cara bom por um bom tempo\", disse Jason Momoa em entrevista à Variety. \"Ele é bem sádico e andrógino. Ele tem um monte de problemas, esse cara. Ele definitivamente tem algumas questões com seu pai\", completa o ator.\\n\\nBrie Larson, de Capitã Marvel, entra para o elenco da saga\\n\\nVencedora do Oscar por O Quarto de Jack, a Capitã Marvel Brie Larson também estreia na família e deve ter papel importante na história. Pelas redes sociais, Vin Diesel deu as boas-vindas à atriz.\\n\\n\"Você vê esse anjo por cima do meu ombro me fazendo rir, você diz para si mesmo \\'essa é a Capitã Marvel\\'. Claramente, tem amor e riso nesta imagem. O que você não vê, no entanto, é a personagem que será apresentada em Velozes & Furiosos 10. Você não tem ideia de como ela será atemporal e incrível em nossa mitologia. Além de sua beleza, sua inteligência... seu Oscar, haha, é essa alma profunda que vai acrescentar algo que você pode nunca ter esperado, mas desejou. Bem-vinda à FAMÍLIA, Brie, escreveu.\\n\\nSpin-offs de Velozes & Furiosos\\n\\nPara quem já está se preparando para a despedida de Dominic Toretto e sua família, a boa notícia é que nem tudo está acabado para a franquia, ao menos no que depender dos futuros spin-off de Velozes & Furiosos. Além de Hobbs & Shaw e da série animada Espiões no Asfalto, as personagens femininas da franquia vão ganhar um spin-off próprio, assim como Cipher, personagem de Charlize Theron, que também deve estrelar sua própria história.'},\n",
       " {'url': 'https://olhardigital.com.br/2023/06/08/cinema-e-streaming/velozes-e-furiosos-saiba-a-ordem-certa-dos-filmes/',\n",
       "  'text': 'A popular franquia “Velozes e Furiosos” já está no gosto do público há mais de duas décadas, e sua força só aumenta ao passar dos anos. A saga já conta com inúmeros filmes e até spin-offs, mas você sabia que a ordem cronológica dos filmes é diferente da ordem de lançamento?\\n\\nSe você não sabia, a seguir mostraremos a ordem cronológica correta dos acontecimentos do cânone de “Velozes e Furiosos”.\\n\\npublicidade\\n\\nLeia também:\\n\\nVeja a ordem de Velozes e Furiosos\\n\\n1º – Velozes e Furiosos (2001)\\n\\nIconica cena em que Brian O’Conner (Paul Walker) e Dominic Toretto (Vin Diesel) disputam um racha em uma das ultimas cenas de “Velozes e Furiosos” (“The Fast and the Furious”, 2001) / Crédito: Universal Pictures (divulgação)\\n\\nPrimeiro filme lançado da franquia e também o primeiro da ordem cronológica.\\n\\npublicidade\\n\\nO policial Brian O’Conner (Paul Walker) enfrenta um dilema ao se infiltrar em um grupo de corredores de rua de L.A. liderados por Dominic Toretto (Vin Diesel), suspeitos de cometer assaltos. Durante a missão, ele se apaixona pela irmã de Toretto, Mia (Jordana Brewster), e encontra uma nova família no grupo.\\n\\n2º – + Velozes + Furiosos (2003)\\n\\nA primeira aparição do personagem Roman Pearce (Tyrese Gibson) é em “+ Velozes + Furiosos” (“2 Fast 2 Furious”, 2003) / Crédito: Universal Pictures (divulgação)\\n\\nSegundo filme lançado e o segundo da ordem de Velozes e Furiosos.\\n\\npublicidade\\n\\nAgora ex-policial, Brian é recrutado pelo FBI para se infiltrar em uma gangue de rachadores e desmantelar uma rede de tráfico de drogas. Ele conta com a ajuda de seu antigo amigo Roman Pearce (Tyrese Gibson).\\n\\n3º – Velozes e Furiosos 4 (2009)\\n\\nLetty (Michelle Rodriguez) e Dom (Vin Diesel) em imagem do filme “Velozes e Furiosos 4” (“Fast & Furious”, 2009) / Crédito: Universal Pictures (divulgação\\n\\nAgora as coisas ficam diferentes. Esse foi o quarto filme lançado da série, porém o terceiro da ordem cronológica.\\n\\npublicidade\\n\\nDom Toretto está foragido na Rep. Dominicana com a namorada, Letty Ortiz (Michelle Rodriguez), e sua nova equipe. Após a suposta morte de Letty, Dom volta para L.A. e encontra novamente Brian, agora agente do FBI. Os dois são forçados a trabalharem juntos para capturar um traficante.\\n\\n4º – Velozes e Furiosos 5: Operação Rio (2011)\\n\\nDom (Vin Diesel) e o agente federal Hobbs (Dwayne Johnson) correndo sobre as lajes de casas brasileiras em cena de perseguição do filme “Velozes e Furiosos 5: Operação Rio” (“Fast Five”, 2011) / Crédito: Universal Pictures (divulgação)\\n\\nQuinto filme lançado e o quarto na ordem cronológica.\\n\\nForagidos no Brasil, Dom e Brian reúnem sua equipe para realizar um assalto no Rio de Janeiro enquanto são perseguidos pelo agente federal Luke Hobbs (Dwayne Johnson).\\n\\n5º – Velozes e Furiosos 6 (2013)\\n\\nA alucinante cena de ação final na pista de pouso em “Velozes e Furiosos 6” (“Fast & Furious 6”, 2013) / Crédito: Universal Pictures (divulgação)\\n\\nSexto filme lançado e o quinto na ordem cronológica.\\n\\nDom Toretto e sua equipe são recrutados por Hobbs para deter um grupo de mercenários habilidosos que ameaça a segurança global.\\n\\n6º – Velozes e Furiosos: Desafio em Tóquio (2006)\\n\\nHan Lue (Sung Kang) e Sean (Lucas Black) em imagem do filme “Velozes e Furiosos: Desafio em Tóquio” (“The Fast and the Furious: Tokyo Drift”, 2006) / Crédito: Universal Pictures (divulgação)\\n\\nEmbora “Desafio em Tóquio” tenha sido o terceiro filme lançado da série, ele é o sexto na ordem cronológica dos eventos.\\n\\nEssa ordem esclarece uma das maiores confusões para quem assiste aos filmes da franquia “Velozes e Furiosos” na ordem de lançamento: a aparição do personagem Han Lue (Sung Kang) nos filmes 5 e 6, mesmo após a sua morte no final de “Desafio em Tóquio”. Agora está esclarecido: ” Desafio em Tóquio” ocorre cronologicamente após o sexto filme e antes do sétimo filme de “Velozes e Furiosos”.\\n\\nNa trama, um jovem americano é enviado a Tóquio após se envolver em problemas. Lá, ele entra no mundo dos rachas e se torna pupilo de Han Lue, que lhe ensina a técnica do Drift.\\n\\n7º – Velozes e Furiosos 7 (2015)\\n\\nA ultima cena do filme “Velozes e Furiosos 7” (“Furious 7”, 2015), uma homanagem ao ator Paul Walker / Crédito: Universal Pictures (divulgação)\\n\\nSétimo filme lançado e o sétimo na ordem de Velozes e Furiosos.\\n\\nA equipe de Dom Toretto enfrenta o assassino implacável Deckard Shaw (Jason Statham), que busca vingança pela morte do irmão, o vilão do filme 6. O longa faz uma despedida ao ator Paul Walker, falecido durante as gravações.\\n\\n8º – Velozes e Furiosos 8 (2017)\\n\\nPerseguição sobre o gelo em imagem do filme “Velozes e Furiosos 8” (“The Fate of the Furious”, 2017) / Crédito: Universal Pictures (divulgação)\\n\\nOitavo filme lançado e o oitavo na ordem de Velozes e Furiosos.\\n\\nToretto é chantageado e coagido a trair sua equipe e se juntar a ciberterrorista Cipher (Charlize Theron).\\n\\n9º – Velozes e Furiosos: Hobbs & Shaw (2019)\\n\\nLuke Hobbs (Dwayne Johnson) e Deckard Shaw (Jason Statham) em imagem do filme “Velozes e Furiosos: Hobbs & Shaw” (“Fast & Furious Presents: Hobbs & Shaw”, 2019) / Crédito: Universal Pictures (divulgação)\\n\\nFilme spin-off da série, é o nono na ordem cronológica da saga.\\n\\nOs inimigos Luke Hobbs e Deckard Shaw são forçados a se unir para enfrentar um vilão cibernéticamente aprimorado que representa uma ameaça global.\\n\\n10º – Velozes e Furiosos 9 (2021)\\n\\nMichelle Rodriguez como Letty em ‘F9’, dirigido por Justin Lin. Imagem: Universal Pictures/Divulgação\\n\\n“Velozes e Furiosos 9” é o décimo na ordem cronológica da franquia.\\n\\nDominic Toretto e sua equipe enfrentam um novo desafio: o irmão perdido há muito tempo de Dom, Jakob (John Cena), que se tornou um assassino habilidoso\\n\\n11º – Velozes e Furiosos 10 (2023)\\n\\nDivulgação\\n\\n“Velozes e Furiosos 10” é o décimo primeiro na ordem cronológica.\\n\\nDom Toretto e sua equipe encaram um inimigo mortal em busca de vingança, que ameaça destruir tudo que eles amam.\\n\\nJá assistiu aos novos vídeos no YouTube do Olhar Digital? Inscreva-se no canal!'},\n",
       " {'url': 'https://www.terra.com.br/byte/velozes-e-furiosos-11-elenco-sinopse-e-data-de-lancamento,938c0dee3fa610b70320cca92cc15858szc8t3io.html',\n",
       "  'text': 'Pode comemorar, pois Velozes e Furiosos 11 vem aí e já tem até data oficial de lançamento.\\n\\nVelozes e Furiosos 10 nem chegou direito e já estamos falando sobre um novo filme. Sim, pode comemorar, pois Velozes e Furiosos 11 vem aí e já tem até data oficial de lançamento. Quem revelou essa informação preciosa foi o próprio Vin Diesel, em seu Instagram, confirmando que o 11º filme da franquia será lançado em abril de 2025. Veja todos os detalhes sobre Velozes e Furiosos 11!\\n\\nQuando Velozes e Furiosos 11 será lançado?\\n\\nDe acordo com o que disse o próprio ator, o filme Velozes e Furiosos 11 está programado para ser lançado no dia 4 de abril de 2025, exclusivamente nos cinemas. Portanto, os fãs terão que esperar até essa data para ver Vin Diesel em ação novamente na franquia.\\n\\nSinopse oficial de Velozes e Furiosos 11\\n\\nEmbora o filme ainda vai demorar para ser lançado, já temos informações sobre o enredo oficial. Veja a sinopse do filme Velozes e Furiosos 11:\\n\\n\"Em Velozes e Furiosos 5: Operação Rio, Dom e sua equipe derrotaram o nefasto traficante brasileiro Hernan Reyes e decapitaram seu império em uma ponte no Rio de Janeiro. O que não sabiam era que o filho de Reyes, Dante (Jason Momoa), testemunhou tudo e passou os últimos doze anos arquitetando um plano para fazê-los pagar o preço final.\"\\n\\nQual o elenco de Velozes e Furiosos 11?\\n\\nQual o elenco de Velozes e Furiosos 11? Foto: Oficina da Net\\n\\nQual o elenco de Velozes e Furiosos 11?\\n\\nPelo que sabemos até o momento, o elenco de Velozes e Furiosos 11 incluirá Vin Diesel, Paul Walker, Michelle Rodriguez, Jordana Brewster, Tyrese Gibson, Chris \\'Ludacris\\' Bridges, Sung Kang, Nathalie Emmanuel e possivelmente Dwayne Johnson reprisando seu papel de Luke Hobbs. Embora tenha dito que não ia partipar da franquia, The Rock apareceu na cena pós-créditos de Velozes e Furiosos 10, dando a entender que teremos sua participação na 11ª produção da franquia.\\n\\nVelozes e Furiosos 11 será o último filme da franquia?\\n\\nEmbora a Universal Pictures ainda não tenha feito um pronunciamento oficial sobre o futuro da franquia Velozes e Furiosos, existem indícios de que o décimo primeiro filme não será o último. Durante uma entrevista no tapete vermelho para a divulgação de Velozes e Furiosos 10, Vin Diesel mencionou a possibilidade de uma trilogia final, sugerindo que o estúdio estava interessado em estender a história.\\n\\nSegundo o ator, o estúdio perguntou se o décimo filme poderia ser dividido em duas partes e, após a avaliação da Parte Um, surgiu a proposta de criar a trilogia final. Embora nada esteja confirmado oficialmente, esses comentários sugerem que a franquia ainda terá mais filmes além de Velozes e Furiosos 11.\\n\\nSem revelar muito, posso dizer o seguinte, ao fazer este filme, o estúdio perguntou se poderia ser em duas partes e depois que o estúdio viu esta Parte Um, eles disseram: \"Você poderia fazer Velozes 10: O Final uma trilogia?\"\\n\\nQuanto mais melhor, não é verdade?!\\n\\nSobre a franquia Velozes e Furiosos\\n\\nA franquia Velozes e Furiosos teve ínicio em 2001, e desde então é conhecida como uma saga recheada de cenas de ação emocionantes, corridas de carros impressionantes e um elenco melhor a cada novo filme. A história gira em torno de um grupo de pilotos habilidosos, liderados por Dominic Toretto, interpretado por Vin Diesel, que se envolvem em missões perigosas, roubos e desafios de velocidade.\\n\\nA franquia Velozes e Furiosos conquistou um grande número de fãs em todo o mundo, tornando-se uma das séries de filmes mais populares e lucrativas da história do cinema. Com o passar dos anos, a franquia expandiu seu universo, apresentando novos personagens e trazendo de volta rostos familiares. A mistura de ação, comédia e laços familiares fortes entre os personagens é um elemento chave do apelo duradouro da franquia.\\n\\nO décimo filme, conhecido também como Fast X, foi lançado recentemente e teve uma recepção diferente entre o público e os especialista. Enquanto os espectadores comuns deram uma avaliação positiva ao filme, com uma pontuação de 85% no Rotten Tomatoes, os críticos tiveram uma visão mais dividida, com uma pontuação de 56% no mesmo site. Apesar das opiniões divergentes, o filme foi um sucesso financeiro, arrecadando uma bilheteria de impressionantes US$ 659,1 milhões, o equivalente a mais de R$ 3 bilhões. Esses números indicam que os fãs querem sempre mais da franquia Velozes e Furiosos.'},\n",
       " {'url': 'https://www.tecmundo.com.br/minha-serie/263683-velozes-furiosos-10-veja-data-lancamento-trailer-sinopse-filme.htm',\n",
       "  'text': 'Todos prontos para um dos maiores lançamentos de 2023? Velozes e Furiosos 10 (Fast X) já está acelerando em direção aos cinemas de todo o mundo e fará sua estreia oficial no dia 19 de maio. Dirigida por Louis Leterrier, a obra será a penúltima da franquia de ação, que teve início em 2001, com Velozes e Furiosos (The Fast and the Furious), e promete surpreender os fãs com novas narrativas de tirar o fôlego, além de novos personagens.\\n\\nAbaixo, saiba tudo sobre Velozes e Furiosos 10 enquanto aguarda pela estreia da produção!\\n\\nVelozes e Furiosos 10: trailer e sinopse\\n\\nPor enquanto, a trama principal de Velozes e Furiosos 10 ainda é um mistério, sem grandes detalhes revelados. A sinopse oficial diz apenas o seguinte: \"Dom Toretto e sua família devem lidar com o adversário mais letal que já enfrentaram. Alimentada pela vingança, uma ameaça terrível emerge das sombras do passado para destruir o mundo de Dom e de todos que ele ama\".\\n\\nO filme de ação terá 2h21min e conta com diversos trailers. A prévia final, disponível abaixo, mostra o novo vilão da trama, que é interpretado por Jason Momoa e possui raízes brasileiras, além de grande parte da ação do longa-metragem. Confira!\\n\\nVelozes e Furiosos 10: elenco\\n\\nO elenco de Velozes e Furiosos 10 será um dos mais extensos da saga, uma vez que reunirá diversos personagens originais e figuras que se foram se juntando à franquia ao longo dos anos. Veja lista com o elenco principal da obra:\\n\\nVin Diesel - Dominic Toretto\\n\\nMichelle Rodriguez - Letty Ortiz\\n\\nJordana Brewster - Mia Toretto\\n\\nTyrese Gibson - Roman Pearce\\n\\nLudacris - Tej Parker\\n\\nSung Kang - Han Lue\\n\\nNathalie Emmanuel - Ramsey\\n\\nJohn Cena - Jakob Toretto\\n\\nCharlize Theron - Cipher\\n\\nJason Momoa - Dante\\n\\nJason Statham - Deckard Shaw\\n\\nAlan Ritchson - Aimes\\n\\nBrie Larson - Tess\\n\\nRita Moreno - Abuela Toretto\\n\\nDe acordo com Diesel, o longa-metragem também servirá como uma despedida definitiva para o personagem Brian O\\'Conner, interpretado pelo ator Paul Walker, que faleceu em 2013.\\n\\nVelozes e Furiosos 10: o início do fim\\n\\nVelozes e Furiosos 10 será o penúltimo filme da franquia encabeçada por Vin Diesel e a narrativa do arco final do projeto será dividida em duas partes. O décimo filme, nesse cenário, consiste na primeira parte, enquanto Velozes e Furiosos 10 - Parte 2, encerrará de vez a saga. A última produção, aliás, chegará aos cinemas apenas em 2025, como já declarou Diesel.\\n\\nO lançamento do filme acontece em dia 19 de maio. Você vai acompanhar a chegada do longa de Velozes e Furiosos aos cinemas?'},\n",
       " {'url': 'https://rollingstone.uol.com.br/noticia/velozes-e-furiosos-10-deve-ser-o-ultimo-filme-da-franquia-diz-site/',\n",
       "  'text': 'O capítulo final deve ser lançado em 1 de abril de 2021\\n\\nA franquia de Velozes e Furiosos deve acabar no 10º filme, de acordo com o site norte-americano We Got This Covered.\\n\\nO mundo de corridas ilegais, carros invejados, espiões e assaltos, no entanto, não deve ser totalmente encerrado. Isso porque a Universal ainda pode explorar o universo dos spin-offs, principalmente depois do sucesso de Hobbs & Shaw.\\n\\n+++ LEIA MAIS: Keanu Reeves em Velozes e Furiosos 9? Roteirista responde\\n\\nO longa lançado em agosto deste ano de 2019, e estrelado por Dwayne “The Rock” Johnson, arrecadou US$ 758.9 milhões na bilheteria mundial. E, a Netflix colocará no catálogo Velozes e Furiosos: Spy Racers, uma série de animação baseada em Velozes e Furiosos.\\n\\nA produção chega no streaming no dia 26 de dezembro de 2019.\\n\\n+++LEIA MAIS: Velozes e Furiosos: Por que Vin Diesel não participou do spin-off Hobbs & Shaw?\\n\\nAinda, vale lembrar que antes do 10º filme estrear, Velozes e Furiosos 9 chega aos cinemas em 22 de maio de 2020. O elenco conta com Vin Diesel, Michelle Rodriguez, Jordana Brewster, Tyrese Gibson, Chris \"Ludacris\" Bridges, Nathalie Emmanuel, John Cena, Helen Mirren, Charlize Theron, Cardi B e Michael Rooker.\\n\\nO capítulo final da franquia de filmes,Velozes e Furiosos 10, deve ser lançado em 1 de abril de 2021.'},\n",
       " {'url': 'https://www.terra.com.br/diversao/entre-telas/filmes/quando-velozes-e-furiosos-11-vai-ser-lancado,8e6b2ba59960f6876089dc8ddf5abfa96fdpzj7r.html',\n",
       "  'text': 'Velozes e Furiosos 11 já tem data de estreia confirmada! Data foi confirmada pelo próprio Vin Diesel em publicação no Instagram\\n\\nOs fãs da saga Velozes e Furiosos já podem comemorar, pois o décimo primeiro filme da franquia acaba de ganhar data de lançamento. O longa, protagonizado por Vin Diesel chega aos cinemas no dia 4 de abril de 2025. A data foi confirmada pelo próprio ator em suas redes sociais.\\n\\nFoto: Universal Pictures / Canaltech\\n\\nVale lembrar que Velozes e Furiosos 11 será a primeira parte da despedida da franquia. O longa será uma continuação direta de Velozes e Furiosos 10 e desenvolverá melhor os arcos que ficaram em aberto, já que o diretor Louis Leterrier deixou incerto o destino de alguns personagem como Dominic Toretto e Little B.\\n\\nVer essa foto no Instagram Uma publicação compartilhada por Vin Diesel (@vindiesel)\\n\\nA cena pós-crédito de Velozes e Furiosos 10 também será importante para os próximos acontecimentos que serão mostrados, e o novo filme ainda deve trazer respostas ao público revelando o paradeiro do Sr. Ninguém.\\n\\nSinopse oficial de Velozes e Furiosos 11\\n\\nPara quem ficou curioso sobre o enredo do novo filme da franquia, vale a pena dar uma olhada na sinopse oficial:\\n\\n\"Em Velozes e Furiosos 5: Operação Rio, Dom e sua equipe derrotaram o nefasto traficante brasileiro Hernan Reyes e decapitaram seu império em uma ponte no Rio de Janeiro. O que não sabiam era que o filho de Reyes, Dante (Jason Momoa), testemunhou tudo e passou os últimos doze anos arquitetando um plano para fazê-los pagar o preço final.\"\\n\\nCom essa premissa, fica claro que o público pode esperar muita ação com boas cenas de perseguição e tiro.\\n\\nQuem está no elenco de Velozes e Furiosos 11?\\n\\nAlém de Vin Diesel, o elenco do longa conta com Paul Walker, Michelle Rodriguez, Jordana Brewster, Tyrese Gibson, Chris \\'Ludacris\\' Bridges, Sung Kang e Nathalie Emmanuel.\\n\\nVale lembrar que apesar de ter dito que não participaria mais da franquia, Dwayne Johnson, o The Rock, apareceu na cena pós-credito do último filme. Desse modo, ao que tudo indica, o ator também estará no décimo primeiro filme, reprisando o seu papel de Luke Hobbs.\\n\\nVer essa foto no Instagram Uma publicação compartilhada por Vin Diesel (@vindiesel)\\n\\nPor que Velozes e Furiosos 11 não será o último filme?\\n\\nAo contrário do que muitos esperavam, a história da saga não deve terminar no décimo primeiro filme. Isso porque, durante sua passagem pelo tapete vermelho para divulgação de Velozes e Furiosos 10, Vin Diesel comentou com uma repórter sobre a possibilidade de criarem mais um longa, para assim fazerem a \"trilogia final\". Ele disse:\\n\\n\"Sem revelar muito, posso dizer o seguinte, ao fazer este filme, o estúdio perguntou se poderia ser em duas partes e depois que o estúdio viu esta Parte Um, eles disseram: \"Você poderia fazer Velozes 10: O Final uma trilogia?\"\\n\\nApesar da fala de Vin Diesel, no entanto, a Universal Pictures ainda não se pronunciou sobre o assunto.\\n\\nA saga Velozes e Furiosos\\n\\nLançado em 2001, o primeiro filme Velozes e Furiosos inaugurou uma franquia de sucesso, embora alguns longas tenham tropeçado no caminho.\\n\\nO último lançado, também chamado de Fast X, conquistou a audiência e conseguiu 85% de avaliações positivas dos espectadores comuns no Rotten Tomatoes e uma bilheteria de US$ 659,1 milhões (cerca de pouco mais de R$ 3 bilhões). Já os críticos não gostaram tanto assim, e o filme teve apenas 56% de avaliações positivas no mesmo site.\\n\\nVer essa foto no Instagram Uma publicação compartilhada por Vin Diesel (@vindiesel)\\n\\nQuando Velozes e Furiosos 11 vai ser lançado?\\n\\nOs fãs da franquia de ação ainda terão que esperar um pouco para ver Vin Diesel em cena novamente. Isso porque Velozes e Furiosos 11 estreia só no dia 4 de abril de 2025, exclusivamente nos cinemas.\\n\\nTrending no Canaltech:'}]"
      ]
     },
     "execution_count": 61,
     "metadata": {},
     "output_type": "execute_result"
    }
   ],
   "source": [
    "pages_content"
   ]
  },
  {
   "cell_type": "code",
   "execution_count": 62,
   "metadata": {},
   "outputs": [],
   "source": [
    "from langchain.text_splitter import RecursiveCharacterTextSplitter\n",
    "from langchain.docstore.document import Document\n",
    "\n",
    "text_splitter = RecursiveCharacterTextSplitter(chunk_size=6000, chunk_overlap=100)\n",
    "\n",
    "docs = []\n",
    "for d in pages_content:\n",
    "\tchunks = text_splitter.split_text(d[\"text\"])\n",
    "\tfor chunk in chunks:\n",
    "\t\tnew_doc = Document(page_content=chunk, metadata={ \"source\": d[\"url\"] })\n",
    "\t\tdocs.append(new_doc)"
   ]
  },
  {
   "cell_type": "code",
   "execution_count": 63,
   "metadata": {},
   "outputs": [],
   "source": [
    "from langchain.embeddings import OpenAIEmbeddings\n",
    "\n",
    "embeddings = OpenAIEmbeddings(model=\"text-embedding-ada-002\")\n",
    "\n",
    "docs_embeddings = embeddings.embed_documents([doc.page_content for doc in docs])\n",
    "query_embedding = embeddings.embed_query(query)"
   ]
  },
  {
   "cell_type": "code",
   "execution_count": 64,
   "metadata": {},
   "outputs": [],
   "source": [
    "import numpy as np\n",
    "from sklearn.metrics.pairwise import cosine_similarity\n",
    "\n",
    "def get_top_k_indices(list_of_doc_vectors, query_vector, top_k):\n",
    "  # convert the lists of vectors to numpy arrays\n",
    "  list_of_doc_vectors = np.array(list_of_doc_vectors)\n",
    "  query_vector = np.array(query_vector)\n",
    "\n",
    "  # compute cosine similarities\n",
    "  similarities = cosine_similarity(query_vector.reshape(1, -1), list_of_doc_vectors).flatten()\n",
    "\n",
    "  # sort the vectors based on cosine similarity\n",
    "  sorted_indices = np.argsort(similarities)[::-1]\n",
    "\n",
    "  # retrieve the top K indices from the sorted list\n",
    "  top_k_indices = sorted_indices[:top_k]\n",
    "\n",
    "  return top_k_indices\n",
    "\n",
    "top_k = 1\n",
    "best_indexes = get_top_k_indices(docs_embeddings, query_embedding, top_k)\n",
    "best_k_documents = [doc for i, doc in enumerate(docs) if i in best_indexes]"
   ]
  },
  {
   "cell_type": "code",
   "execution_count": 65,
   "metadata": {},
   "outputs": [
    {
     "data": {
      "text/plain": [
       "[Document(page_content='Todos prontos para um dos maiores lançamentos de 2023? Velozes e Furiosos 10 (Fast X) já está acelerando em direção aos cinemas de todo o mundo e fará sua estreia oficial no dia 19 de maio. Dirigida por Louis Leterrier, a obra será a penúltima da franquia de ação, que teve início em 2001, com Velozes e Furiosos (The Fast and the Furious), e promete surpreender os fãs com novas narrativas de tirar o fôlego, além de novos personagens.\\n\\nAbaixo, saiba tudo sobre Velozes e Furiosos 10 enquanto aguarda pela estreia da produção!\\n\\nVelozes e Furiosos 10: trailer e sinopse\\n\\nPor enquanto, a trama principal de Velozes e Furiosos 10 ainda é um mistério, sem grandes detalhes revelados. A sinopse oficial diz apenas o seguinte: \"Dom Toretto e sua família devem lidar com o adversário mais letal que já enfrentaram. Alimentada pela vingança, uma ameaça terrível emerge das sombras do passado para destruir o mundo de Dom e de todos que ele ama\".\\n\\nO filme de ação terá 2h21min e conta com diversos trailers. A prévia final, disponível abaixo, mostra o novo vilão da trama, que é interpretado por Jason Momoa e possui raízes brasileiras, além de grande parte da ação do longa-metragem. Confira!\\n\\nVelozes e Furiosos 10: elenco\\n\\nO elenco de Velozes e Furiosos 10 será um dos mais extensos da saga, uma vez que reunirá diversos personagens originais e figuras que se foram se juntando à franquia ao longo dos anos. Veja lista com o elenco principal da obra:\\n\\nVin Diesel - Dominic Toretto\\n\\nMichelle Rodriguez - Letty Ortiz\\n\\nJordana Brewster - Mia Toretto\\n\\nTyrese Gibson - Roman Pearce\\n\\nLudacris - Tej Parker\\n\\nSung Kang - Han Lue\\n\\nNathalie Emmanuel - Ramsey\\n\\nJohn Cena - Jakob Toretto\\n\\nCharlize Theron - Cipher\\n\\nJason Momoa - Dante\\n\\nJason Statham - Deckard Shaw\\n\\nAlan Ritchson - Aimes\\n\\nBrie Larson - Tess\\n\\nRita Moreno - Abuela Toretto\\n\\nDe acordo com Diesel, o longa-metragem também servirá como uma despedida definitiva para o personagem Brian O\\'Conner, interpretado pelo ator Paul Walker, que faleceu em 2013.\\n\\nVelozes e Furiosos 10: o início do fim\\n\\nVelozes e Furiosos 10 será o penúltimo filme da franquia encabeçada por Vin Diesel e a narrativa do arco final do projeto será dividida em duas partes. O décimo filme, nesse cenário, consiste na primeira parte, enquanto Velozes e Furiosos 10 - Parte 2, encerrará de vez a saga. A última produção, aliás, chegará aos cinemas apenas em 2025, como já declarou Diesel.\\n\\nO lançamento do filme acontece em dia 19 de maio. Você vai acompanhar a chegada do longa de Velozes e Furiosos aos cinemas?', metadata={'source': 'https://www.tecmundo.com.br/minha-serie/263683-velozes-furiosos-10-veja-data-lancamento-trailer-sinopse-filme.htm'})]"
      ]
     },
     "execution_count": 65,
     "metadata": {},
     "output_type": "execute_result"
    }
   ],
   "source": [
    "best_k_documents"
   ]
  },
  {
   "cell_type": "code",
   "execution_count": 67,
   "metadata": {},
   "outputs": [
    {
     "name": "stdout",
     "output_type": "stream",
     "text": [
      "Answer: O último filme de Velozes e Furiosos lançado foi Velozes e Furiosos 10 (Fast X) em 19 de maio de 2023.\n",
      "Sources: https://www.tecmundo.com.br/minha-serie/263683-velozes-furiosos-10-veja-data-lancamento-trailer-sinopse-filme.htm\n"
     ]
    }
   ],
   "source": [
    "from langchain.chains.qa_with_sources import load_qa_with_sources_chain\n",
    "from langchain.llms import OpenAI\n",
    "\n",
    "chain = load_qa_with_sources_chain(OpenAI(temperature=0), chain_type=\"stuff\")\n",
    "\n",
    "response = chain({\"input_documents\": best_k_documents, \"question\": query}, return_only_outputs=True)\n",
    "\n",
    "response_text, response_sources = response[\"output_text\"].split(\"SOURCES:\")\n",
    "response_text = response_text.strip()\n",
    "response_sources = response_sources.strip()\n",
    "\n",
    "print(f\"Answer: {response_text}\")\n",
    "print(f\"Sources: {response_sources}\")"
   ]
  }
 ],
 "metadata": {
  "kernelspec": {
   "display_name": "genai",
   "language": "python",
   "name": "python3"
  },
  "language_info": {
   "codemirror_mode": {
    "name": "ipython",
    "version": 3
   },
   "file_extension": ".py",
   "mimetype": "text/x-python",
   "name": "python",
   "nbconvert_exporter": "python",
   "pygments_lexer": "ipython3",
   "version": "3.11.9"
  }
 },
 "nbformat": 4,
 "nbformat_minor": 2
}
