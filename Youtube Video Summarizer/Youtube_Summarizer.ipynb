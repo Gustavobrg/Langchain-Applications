{
 "cells": [
  {
   "cell_type": "code",
   "execution_count": 1,
   "metadata": {},
   "outputs": [],
   "source": [
    "import os\n",
    "os.environ['OPENAI_API_KEY'] = \"\"\n",
    "os.environ['ACTIVELOOP_TOKEN'] = \"\""
   ]
  },
  {
   "cell_type": "code",
   "execution_count": 2,
   "metadata": {},
   "outputs": [
    {
     "name": "stderr",
     "output_type": "stream",
     "text": [
      "/home/gustavo-barbosa/anaconda3/envs/genai/lib/python3.11/site-packages/langchain_core/_api/deprecation.py:119: LangChainDeprecationWarning: The class `OpenAI` was deprecated in LangChain 0.0.10 and will be removed in 0.3.0. An updated version of the class exists in the langchain-openai package and should be used instead. To use it run `pip install -U langchain-openai` and import as `from langchain_openai import OpenAI`.\n",
      "  warn_deprecated(\n"
     ]
    }
   ],
   "source": [
    "from langchain import OpenAI, LLMChain\n",
    "from langchain.chains.mapreduce import MapReduceChain\n",
    "from langchain.prompts import PromptTemplate\n",
    "from langchain.chains.summarize import load_summarize_chain\n",
    "\n",
    "llm = OpenAI(model_name=\"gpt-3.5-turbo-instruct\", temperature=0)"
   ]
  },
  {
   "cell_type": "code",
   "execution_count": 3,
   "metadata": {},
   "outputs": [],
   "source": [
    "import yt_dlp\n",
    "\n",
    "def download_mp4_from_youtube(urls, job_id):\n",
    "    # This will hold the titles and authors of each downloaded video\n",
    "    video_info = []\n",
    "\n",
    "    for i, url in enumerate(urls):\n",
    "        # Set the options for the download\n",
    "        file_temp = f'./{job_id}_{i}.mp4'\n",
    "        ydl_opts = {\n",
    "            'format': 'bestvideo[ext=mp4]+bestaudio[ext=m4a]/best[ext=mp4]',\n",
    "            'outtmpl': file_temp,\n",
    "            'quiet': True,\n",
    "        }\n",
    "\n",
    "        # Download the video file\n",
    "        with yt_dlp.YoutubeDL(ydl_opts) as ydl:\n",
    "            result = ydl.extract_info(url, download=True)\n",
    "            title = result.get('title', \"\")\n",
    "            author = result.get('uploader', \"\")\n",
    "\n",
    "        # Add the title and author to our list\n",
    "        video_info.append((file_temp, title, author))\n",
    "\n",
    "    return video_info\n",
    "\n",
    "urls=[\"https://www.youtube.com/watch?v=Mi1R5Wt8PEI\",\n",
    "    \"https://www.youtube.com/watch?v=o0LjwAohJO8\",]\n",
    "vides_details = download_mp4_from_youtube(urls, 1)"
   ]
  },
  {
   "cell_type": "code",
   "execution_count": 4,
   "metadata": {},
   "outputs": [
    {
     "name": "stdout",
     "output_type": "stream",
     "text": [
      "Transcription for ./1_0.mp4:\n",
      " O ano 1983, o governo americano do presidente Ronald Reagan em comedou a produção de um jogo de taboleiro chamado Proud Profit, ou Profeta Urgulhosa em Matarovção Livre. Essa não é uma curiosidade histórica engraçada, mas uma das histórias mais aterruizadoras que saíram da Guerra Free. No mesmo ano, existiam mais de 60 mil armas no cléalis entre os Estados Unidos e a União Soviética. E o jogo Proud Profit, criado pelo doutor de economia por Harvard, Thomas Shelling, tinha como objetivo simular uma guerra nuclear no contexto da Guerra Free. Durante duas semanas, mais de 200 pessoas se reuniram no colégio nacional de guerra em Washington para jogar Proud Profit, partindo de diferentes cenários para o começo de uma guerra nuclear. O cenário de jogados nunca foram revelados pela governo americano. Uma das poucas coisas que nós sabemos da simulação de guerra nuclear vindo os relatos de Paul Breaking, um professor de ciências políticas de erro. Segundo Breaking, não importa como o jogo começa, ou quem inicia a guerra ou em qual situação. O final do jogo é sempre o mesmo. Guerra nuclear completa. Esse é um dos cenários possíveis. Qualquer nação com uma bomba nuclear em um mísseo balístico em ter continental é capaz de acabar com um mundo de 60 minutos. E assim que esse cenário começa. Algum país pequeno, mas com capacidade de nuclear lançar uma única bomba nuclear contra uma potência nuclear como os Estados Unidos ou a Russia. No nosso cenário nós vamos seguir o lançamento de um mísseo balístico intercontinental lançado nas possibilidades de piongian na Corea do Norte. Mises balísticos intercontinentais ou ICBMs são uma das tecnologias chave para o uso de armas nucleomas. O ICBM é capaz de carregar uma homogífa nuclear para quase qualquer lugar do mundo com precisão e menos de 30 minutos. O lançamento do ICBM da Corea do Norte, o Washington 17, começa com uma queima de cinco minutos seguida por uma trajetória balística mais de 1.000 km de altura e termina reentrando na atmosfera e caindo sobre o seu alvo. Apenas alguns segundos são necessários para o satélites SB e RES dos Estados Unidos até que tarem o lançamento do ICBM. O satélites SB e RES têm como objetivo da ter que estar queima de combustível característica de um ICBM. E representa o primeiro passo no protocolo de resposta americana uma ameaça nuclear. Normalmente, quando nações capazes de lançar um ICBM realizam testes, essas nações avísam os outros países para evitar confusões. A Corea do Norte é a única exceção. Em 30 segundos, o satélites terminam a provar da trajetória do ICBM, a Costa Leste dos Estados Unidos, onde a capital americana Washington se encontra. Uma cadeia de eventos minutiosamente ensayada começa. Os dados são recebidos pela instalação de dados aéreos paciais do Colorado. Em menos de três minutos, o alto comando do exército é reunido e informado do possível ataque nucleada coreia do Norte que está a caminho e deve chegar em menos de 25 minutos. Cabe ao alto comando do exército interpretar essa situação e reportar o presidente americano que vai tomar sua decisão sobre comunidade com a situação, optando americano para lidar com um ataque nucleária chamado O Plano. E, de certa forma, a primeira parte do plano acabou de falhar. Os Estados Unidos possuem mais de mil armas nucleares prontas para selecionar as instantes. A RUSI é possuí número similares. Qualquer um desses países é capaz de acabar com o mundo em segundos. Isso é intencional. É parte da estratégia de guerra nuclear, chamada de sua zão nuclear. A única defesa razoável contra um ataque nuclear é ser capaz de retaliar o ataque com suas próprias armas nucleares. Os Estados Unidos são uma massa nuclear, contino e permanente, como uma forma de incentivar outras potências nucleares a nunca atacarem os Estados Unidos. Porque os Estados Unidos são capazes de retaliar e destruir os atacantes com suas próprias armas nucleares. E essa é a teoria de sua zão nuclear. Em pediu um ataque nuclear com uma meia saindo da maior, uma estratégia chave na política do mundo moderna. E essa estratégia acabou de falhar, como provado pelo lançamento do ICBM na Coréia do Norte. Cinco minutos. O ICBM norte-coliano termina a sua fase de queima e agora é invisível a satélites. Em alguns minutos, os radáneis de sol americanos vão localizar eles de novo. O presidente americano recebe uma ligação sobre a situação. E do outro lado da chamada estão secretários de defesa em um banquero de baixo do pentágono e o chefe do comando estratégico americano em uma base em uma lasca. O comando estratégico ou STREETCOM é justamente o grupo responsável por estudar como usar as armas nucleares e responder o uso de armas nucleares. O presidente é informado de um possível ataque nuclear da Coréia do Norte, realizado através de um único ICBM. Esse cenário não é só uma meia saindo, mas é uma meia saindo estranho. Uma única bomba nuclear não é o suficiente para destruir a capacidade de retalhar a sua americana. Então será que esse seria um ataque verdadeiro? Talvez o ICBM não correga uma arma nuclear, e seja só uma demonstração de força estúpida. Um ataque único, sem uma escalada preve de tensões, gera uma situação muito estranho. É impossível saber se o ICBM de fato carrega uma bomba nuclear. E mesmo assim, o que o presidente deve fazer? Em o teoria, está determinado pelo oupleno. Iniciar um ataque nuclear de vasta dor contra a Coréia do Norte. Essa é a política de lançamento no aviso. Caso os Estados Unidos detectem o ICBM voando direção ao sol americano, a ideia que os Estados Unidos devem revidar o mais rápido possível. E não só isso, mas eles devem revidar com um ataque de captador, que tem como objetivo destruir todo o comando da nação inimiga de uma única só vez. Cabe ao presidente entender a situação e decidir aqui qual vai ser a melhor opção de retalhar ação, idealmente em menos de 6 minutos. Já se passaram 30 segundos. Para dificultar a decisão do presidente em 1960, o sistema de detecção dos Estados Unidos reportou na CERDA Lua como lançamento de mil ICBMs. Em 1979, uma situação foi erroneamente interpretada como uma detecção de ataque nuclear genuína. Um único ataque do nada, como esse, é uma situação estranha. E pode ter mais por trás da história. E agora, o presidente tem 6 minutos para decidir se o ataque é crive-lu suficiente para um contratake e qual vai ser a forma desse contratake. 11 minutos. O presidente discute suas opções com seus conselheiros enquanto é carregado para um banque pelo seu segurança. Falta uns 14 minutos para o impacto do ICBM. E pelo que tudo indica, ele vai cair em Washington e destruir a casa branca e o pentágono. Funcionários responsáveis pela evacuação de figuras importantes começam a planejar a rota de fuga do presidente, algumas outras figuras. O presidente abre a bolsa de emergência, uma pequena maleta que serve para comandar um ataque nuclear. A bolsa acompanha o presidente 100% do tempo. E os detalhes de como a loupera são extremamente confidenciais. Relatos indicam que ela tem um sistema de comunicação por busto e um livreto que já foi comparado a um cardápio de feste-food. O cardápio carrega as opções de ataques nucleares disponíveis e o custo em vidas humanas de cada ataque possível. O chefe do comandas estratégico sugera a opção de retalhação completa contra a colher do norte, que envolve dezenas de milhões de mortes e contaminação radiativa dos territórios da China e da Rússia, o que é o longe do ideal. Ignorando o conselho, o presidente ordena que o primeiro ataque nuclear seja realizado por aviões bombardeiros carregando bombas nucleares. A aviões são uma das três formas de realizar um ataque nuclear. Eles são opção mais lenta, mas é a única opção capaz de ser abortada. Se o ataque for um ataque falso ou se provar algum erro, vai ser possível voltar atrás. Nos próximos minutos, e número de figuras importantes para o governo americano vão ser movidas de possibilizar alguns do ataque para alguns dos vários banques a redor dos Estados Unidos. Em teoria, o presidente vai para o complexo de montanhas de Raven Rock. Na prática, o presidente tem uns 10 minutos para evacuar, e esse talvez não seja o suficiente. Uma explosão nuclear potente é capaz de desabilitar sistemas electrônicos à distâncias enormes. Existe uma chance real do helicóptero carregando o presidente americano, um Marine One, de ser afetado pelo explosão dessa forma. Mesmo com toda a superioridade tecnológica americana, um único ICBM da Coreia do Norte tem chances reais de matar o presidente americano. Não existe nenhum tipo de defesa prática contra um ataque desses, e ICBM são armas aterrorizantes, mas elas não são as armas mais aterrorizantes envolvidas na guerra nuclear. Esse título pertence ao submarino dos noco-hernas. 24 minutos. Alguns minutos antes do ICBM atingiu Washington, um segundo grupo de lançamentos detectado próximo da Costa oeste americano. Um submarino da Coreia do Norte carregando 8 ojivas nucleares veio superfície, e disparuam as ojivas contra ángulos na Costa oeste americano. O tempo de viagem desses ataques é de poucos minutos. Agora existem 9 bombas nucleares no ar, e todas vão cair aproximadamente ao mesmo tempo. E é pela possibilidade de lançar ataques de tão perto, um tempo de viagem de poucos minutos, que o submarino escarregando armas nucleares são tão atingourizantes. Além disso, o submarino são um efetivamente invisíveis até lançarem suas bombas. Um país com submarinos nucleares bem armados é capaz de retaliar um ataque nuclear, mesmo que todo seu comando seja destruído. Submarinos são partes sensial da estratégia de sua azão e retaliação nuclear, tanto da russa e a conta dos Estados Unidos quanto na Inglaterra. O lançamento do submarino confirma que a agressão é uma ataque nuclear genúima. O presidente americano informa o chefe de comando estratégico uma senha que permite a ele desplanar qualquer ataque nuclear disponível. E instantes depois disso, 50 e cbms são lançados de sólameiricano em direção a Coreia do Norte. Outras 30 bombas vão ser lançadas de submarinos nucleares próximos da Coreia. Em menos de meia hora, 82 álbums de importância militar civil industrial vão ser apagados do mapa na Coreia do Norte. 9 bombas nucleares acertam os Estados Unidos. A capital americana é apagada do mapa. O pentágono, a casa branca e milhões de pessoas não existem uns. Uma bola de fogo de quilômetros, seguida por rajadas de vento em nível, tudo por desenas de quilômetros. Tudo inflamado ao ao redor da capital é imediatamente incendiante. Pessoas próximas do centro da explosão são vaporizadas. O pulso de energia eletromagnética gerada, desabilita o helicóptero do presidente, mesmo a quilômetros de distância. A capital americana é substituída por uma nuvem de cogumelos. E outras 8 nuvem de cogumelos sobem na costa oeste, mirando a infraestrutura de produção e transmissão de energia, incluindo zinas nucleares, o que vai gerar um incêndio de material radioativo, um fogo tão radioativo que é perigoso de mais tentar apagar devido aos seus altos níveis de radiação. E essas nove bombas nucleares não são a pior notícia do momento. Existe uma grande fale no sistema de retalhação nucleara americana? Atualmente quase todas as trajetórias viáveis para uma retalhação contra possíveis alvos passam por cima da rússia. Ou seja, se os Estados Unidos lançarem um ataque nuclear contra a Coreia do Norte, os seus místems vão cruzar o espaço aéreo da rússia. E do ponto de vista da rússia, agora existem 50 e cbms americanos em direção ao território deles. Diplomatas e chefes de governo americano vão tentar contatar a rússia e informar que o ataque não é contra eles. Mas será que a rússia deve acreditar? Se a rússia estiver disposta a acreditar que eles vão ser pulpados do ataque nuclear, esse é o cenário perfeito para de fato atacar a rússia com o ataque nuclear de captador. Se a rússia atrasar sua retalhação por acreditar no governo americano, ela vira um alfácil. Essa é a lógica poca-líptica das armas nucleares. Qualquer ameaça nuclear deve ser imediatamente retalhada com um poder máximo. Escolher não condenar a centena de milhões de pessoas nos Estados Unidos a morte imediata seria uma fala de segurança para a rússia. E esse é o limite natural da dissoação nuclear. A destruição mutua-segurável. Qualquer ataque nuclear de um potencial rival vai gerar uma retalhação com um objetivo de destruir o rival e todos os seus países aliados. Até a aparência de um ataque nuclear americano contra a rússia deve ser respondido com força máxima. Qualquer alternativa ou exitação é uma inmitação da dissoação nuclear russa. Uma fragilidade. Minutos depois de 50 e cbms americanos serem lançados, a rússia lança mais de mil armas nucleares contra os Estados Unidos. Outras dezenas de armas nucleares de submarinos também são lançadas contra bases militares na Europa, Coreia, Japão e qualquer aliada americano com armas nucleares. 30 minutos. Meia hora atrás existiam apenas uma arma nuclear sendo lançada. E agora, meia hora depois existem mais de mil armas disparadas, voando para regiões extremamente populosas por todo o inferno norte. Em outra meia hora, cidades como Paris, Londres, Seoul e boa parte dos Estados Unidos vão ser varridas do mapa por bombas nucleares. E uma vez lançados e cbms não podem ser parados. O comando militar americano recebe a informação do lançamento curso. O chefe do comando estratégico armado com a capacidade de revidar embarca no avião do apocalipse. Um centro de comando em um avião completamente analógico e múneos efeitos eletromagnéticos de explosões no Coreia. Dentro desse avião é possível comandar todo o poderinho nuclear americano. E a pergunta se responde de simples e cruel. Vale a pena revidar? No cenário atual, é certo que os Estados Unidos como conhecemos vai acabar. Não existe como impedir isso. A única pergunta que resta é. Vale a pena causar mais destruição lançando mais armas nucleares contra a Rússia? Não existe nenhuma vantagem real nesse ponto em lançar ou não lançar? E mesmo assim, as bombas provavelmente vão ser lançadas. E a razão é a mesma pela qual a Rússia lançou suas bombas. Se os Estados Unidos não estiverem dispostos a revidar um ataque nuclear completo, eles são vulneráveis a um ataque nuclear completo. A lógica nuclear exige que toda a bomba seja respondida com todo o poder possível. Mais mil e cbms são lançados de sua americano mirando a Rússia e os seus aliados. Cada cbmb carrega aproximadamente 10 megatons de dinamite de poder explosivo e múltiplas olhivas independentes, que vão se espalhar o redor do alvo para maximizar o poder explosivo. Isso representa mais de 600 vezes a força da explosão de Hiroshima. Todos os dois mil e cbms lançados carregam um poder destrutivo de mais de 1 milhão de explosões nucleares de Hiroshima e Nagasaki. É difícil compreender essa escala de destruição. E tudo aconteceu tão rápido que muitas das pessoas que estão prestes a morrer nem entendem que está acontecendo. Apenas uma hora depois o lançamento do primeiro cbmb, o mundo como conhecemos vai acabar. E não existe como impedir isso. 50 minutos. Os primeiros ataques nucleares alcançarem tanto a Rússia quanto os Estados Unidos são os ataques lançados de submarinos nucleares. E as primeiras bombas nucleares explodem na própria atmosfera. E não no sol. O objetivo dessas bombas é gerar pulsos eletromagnéticos capazes de fritar equipamentos elétricos por regiões e nones. Uma bomba de três megatons explodindo no meio dos Estados Unidos destruiria basicamente todo o sistema elétrico americano. Até porque todo o sistema elétrico está interconnecrado por fios condutores. E além disso, todo e qualquer pedaço de metal próxima explosão se transformariam em uma antena emitindo sinais de rádio, causando interferência na comunicação usual que é por rádio. O ataque de AMP representa a abertura da guerra nuclear total. E após a explosão vem o silêncio. Rádios não funciona. A energia cai. E em poucos minutos as bombas cai. 60 minutos. As primeiras armas nucleares de espanadas dos submarinos devem destruir os locais chaves do comando militar. Os banquias de Raven Rock, o Centro de Comando Estratégico e Nebraska e outras instalações militares são destruídos por chuvas de bombas nucleares. Complexos de baixo de montanha são atacados por uma série de bombas para garantir a destruição até dos locais mais escondidos. Os ECBMs vem em sequência. Um objetivo de destruir a capacidade industrial e qualquer esperança de recuperação. A capacidade industrial muitas vezes é concentrada em grandes cidades. Todas as grandes cidades são varridas do mapa. Em minutos, o número de mortos alcança centenas de milhões. Faz meio bilhão. E provavelmente o número vai crescer para mais de 1 bilhão nos dias sequentes. E nenhuma força de segurança ou resgate vai estar em posição de realizar qualquer tipo de ajuda rápida. Um ataque nuclear completo vai a necobilar qualquer sombra de um governo. Vai nivelar tantos prédios quanto a organização política da nação. A infraestrutura que permitia países como UCI, Estados Unidos, Inglaterra, Terem uma unidade nacional vai ser necobilada. A lógica do apocalypse vai entrar em jogo. Os que sobreviverem vão tentar continuar vivos a todo custo. Provavelmente fugindo de zonas habitadas para evitar o pior da radiação. Mesmo que algum grupo ainda se considera o governo americana, eles não vão ter o poder de impor esse comum. O mundo como conhecemos acabou em apenas uma hora de guerra no clé. Só falta aceitar isso. Dois anos. Uma troca nuclear completa vai mudar o mundo de formas incompreensíveis. Os ataques nucleares vão incendiar a maior parte das florestas e cidades próximas onde a bomba caiu. O que vai emitir quantidades suficiente de formar essa para bloquear luz do sol e esfriar o planeta em alguns graus Celsius. O suficiente para mudar o perfil agrícola da maior parte dos produtores de comida. De outra forma, produzir comida vai ficar difícil ou impossível por anos. Mesmo sem ser acertado por uma bomba nuclear, o Brasil vai sofrer com a mudança forçosa no clima. E provavelmente por contaminação radiativa que deve se espalhar pela maior parte do mundo. Além do clima, uma troca nuclear completa deve diminuir a qualidade do sol em todo o hemisfério norte. E afetar o sul do mundo também. Os países menos afetados devem incluir países como o Brasil, a Austrália, a Argentina e a África do Sul. E mesmo assim, todos esses países têm laços comerciais importantes com os países do hemisfério norte, que para todos os efeitos práticos agora não existem. É até difícil de chamar crise econômica que segue de crise, porque ela não é nada comparada à destruição nuclear sofrida por países da Europa, América do Norte da Ásia. O mundo vai ser um mundo em luto, uma civilização em lento colapso, com desotens se instalando das regiões mais populosas do planeta. E por trás da dora imediata, causada pelo disparo das mais de duas mil armas do cliares, segue uma pergunta ainda mais cruel. Ainda existem outras 10 mil armas no cliares que não foram usadas porque não deu tempo. E esse poder nuclear é extremamente valioso em um mundo capaz de guerra no cliares. Talvez grupos independentes das nações destruídas têm tendência a propediar deles para voltar ao coté. Talvez os países menos afetados têm eles mesmos conseguia essas armas para ser protegida de uma nova corrida no cliares. E um mundo onde ficou claro que guerra no cliares já aconteceu, que é que garante que o mundo não vai fazer isso tudo de novo. Eu gostaria de saber o que vocês acham. Na opinião de vocês, o cenário que eu apresentei no vídeo é realista. Digite aqui nos comentários. Muito obrigado.\n",
      "\n",
      "Transcription for ./1_1.mp4:\n",
      " O nosso próprio planeta ainda é um mistério para todos nós. A gente pode até achar que já conhece todos os cantos da Terra, mas a verdade é que a humanidade está muito longe de alcançar esse feita. A maior parte da nossa casa nunca foi explorada, nem sequer é mapeada. E o motivo para toda essa incógnita está embaixo da água. É que, apesar de ser humano já ter pisado em praticamente todos os pontos de Terra-fim que existem no planeta, a maior parte dele está subnesta. Mais de 70% da superfície da Terra é composta por oceanos, mas a maior parte deles tem uma média explorada até hoje. E com isso, até a vida embaixo da água é cheia de dúvidas para todos nós. Sentistas acreditam que existem mais de duas milhões de espécies diferentes vivendo no mar. Sendo que mais de 90% dela, ainda não foram nem sequer discritas pela ciência. Pois é, nós vivemos cercados em margens certezas, ilhados em meio desconhecido e afundados na nossa própria ignorância sobre o mundo a nosso redor. Se me reparando, eu penso aqui com vocês entram em lá, tipo, pra eu não saber o que ele vai ajudar. William Shakespeare dizia que existem mais mistérios entre o céu e a Terra do que a nossa fulosofia possa imaginar. Mas meu amigo pode ter certeza que embaixo os perfeces têm ainda muito mais segredos. E isso, porque os oceanos são bem mais profusos que a gente é capaz de conceter. São verdadeiros abismos e muitos deles nos assustam só de tentar imaginar. E esse medo, inclusive, tem nome. Se chama Tala Sofopia. Então se você tá lá sofóbico, aqui ficou a letra de gatilho no vídeo. Feito esse aviso, é hora de a gente mergulhar. Só antes do mergulho, é melhor você se preparar. Explorar um ambiente novo como o fundo dos oceanos é muito parecido com começar a prender uma habilidade nova. No começo, você não faz ideia e desconhecido, mas depois começa a descobrir o mundo novo que vale a pena ser investigado. E eu digo isso porque a Lura está com 15% de desconto pra quem assiste o ciência todo dia. A Lura é a maior escola online de tecnologia e são mais de 1.400 cursos que você pode fazer com uma única assinatura. Então escolha algum curso de algo que você gostaria muito de aprender, mas nunca tiro tempo pra aprender. Eu recomendo qualquer um que você mais interesse da escola de inteligência artificial, aos cursos um malha pena. Agora de volta ao vídeo, é hora de mergulhar. O quão profundo é o oceano? Vamos supor que você quer conhecer o mundo submarino com os seus próprios olhos? Ao entrar numa arandando uma profundidade de 2 metros, já é o suficiente pra você não conseguir mais encostar nos pés no chão. Então você precisa começar a mergulhar. Nos primeiros metros, até dá pra fazer isso sem arquepamentos, mas logo você vai precisar de um cilindro de oxigênio. Mesmo assim, não dá pra descer muita. De acordo com a associação profissional dos instrutores de mergulho, porque é stones de segurança, a profundidade máxima permitida pro mergulho recreativa de 40 metros. Mas como você está seguro na sua casa, isso é só uma simulação, vamos continuar<|sv|> Nessa profundidade, a estátua do Cristo Redentor já estaria totalmente sob imensa. Nos 90 metros, é a estátua da liberdade que está completamente debaixo da água. Até os 100 metros, a luz do sol costuma chegar sem tanta dificuldade, mas daí, em diante, você, aos poucos, começa a ser envolto pelo escuridão. Mesmo assim, já ouvi quem nadasse a baixo disso, o recorde mundial de mergulha de pouco mais de 300 metros, o que dá aproximadamente o tamanho da Torreifel, só que baixo da água. Descendo mais um pouco, a faixa de 400 metros é aqui no submarino militar costumou parar. E eu te adianto que a gente não vessei o menos 5% do caminho pra baixo. Nós chegamos então aos 500 metros, a iluminação continua diminuindo, até que o último raio de luz fica pra trás, e chega um ponto em que não há absolutamente mais nada que você possa enxergar. Um quilômetro abaixo da superfície, e só existem trevas. Mesmo de olhos bem abertos, tudo está preto ou ser redor. A profundidade nesse ponto já é maior do que o prédio mais alto construído pelo ser humano. E mesmo assim, mas não chegamos nem a 10% da profundidade que nos espera. D'aquí pra baixo, adentramos o chamado Oceano Profundo. Por isso, essa região, a partir de 1000 metros, é conhecida como Zona Bati Pelágica, que vem na palavra Partis, que significa profundo e grego. Nessa zona, ainda bem que você não está chegando nada, porque é justamente aqui que começam a aparecer alguns animais bem horríveis. Inclusive, o Peixe Bolha, que é considerado o animal mais feio do mundo. E tem também bichos gigantes, tipo a lula colossal, que pode ultrapassar até os 15 metros de comprimento. Mas além de estar no escuro, você está morrendo de frio. A temperatura nessa zona é de cerca de 4 graus. Se bem que esse é o menor dos problemas, porque você na verdade já estaria morto com a pressão de mais de 5.000 psi, que é o equivalente ao peso de uma caminete em cada polegada do seu corpo. Aliás, a pressão é o maior obstáculo pra exploração sobre o marido. E nessa região, especificamente, ela é um problema tão grande que foi por aqui que aconteceu a tragédia do submessível Tidã, que é aquele do pessoal que queria ver os distrossos de Ternic. Inclusive, os restos do navio mais famoso do mundo estão na casa dos 3.000 metros de profundidade. Já os 4.000 metros, a gente chega na zona de sal. É a região dos animais bizarros, tipo famoso Melanonceto de Onsonino. Você pode não estar ligando o nome ao Peixe, mas ele já fez até participação na cinema. É aquele peixe-lâmpo, daqui a parece no procurando o Nemo. Essa espécie desenvolveu a biolubinescência pra atraí-se as empresas em meio escuridão. E por fim, nós chegamos na zona adopelágica. O nome vem de Ades, que é o Deus-Grego do Mundo inferiório dos mortos. É um nome nada convidativo. Já dá uma boa pista de como que é a Vide aqui embaixo. E essa parte representa toda a metade de baixo do Oceano, que vai dos 6.000 metros até o ponto mais profundo da Terra, a força das Marianas, que fica no Sêano passifico a cerca de 11.000 metros da superfície. Isso é mais do que a altitude do Monte Vereste, com seus quase 9.000 metros. Ou seja, a Terra é mais profunda do que a Lé alta. Obviamente, a força das Marianas é extremamente difícil de se alcançar. Mas seres humanos já conseguiram chegar lá algumas vezes. A história dessa conquista começa a alguns milhares de anos atrás, com os estudos Jarkimedes sobre o Impúcio, que é aquela força que puxa pra cima os corpos que estão em metros de um líquido. Pesquisadores que sempre tiveram o sonho de explorar o mundo em baixo da água, se basearam nesses estudos, perdi-lhe houver alguma forma de criar uma máquina capaz de nos levar pra o mundo subaquático. E nos trazer de volta, o professor em segurança é muito importante. Até o Leonardo da Vinte chegou a propor um protótipo dos primeiros submarinos, mas eles só começaram a sair do papel um século depois. Nos anos 1600, um inventor Cornelius Dravel criou essa engenho noca aqui. Um barco arremo fechado conectado a superfície por uma tubulação de ar. E esse é considerado o primeiro submarino da história. No século seguinte, as versões mais modernas foram sendo desenvolvidas com motorizar, com premido, combustão, diesel e até energia nuclear. E essas tecnologias permitiram mudanças nas estratégias militares nas guerras, com malas possibilidades de espionagem e de ataques aos inimigos. Por isso, diversas nações começaram a investir no desenvolvimento de submarinos. Numa corrida é que até lembra a corrida espacial durante a guerra fria. E assim como a guerra fria acabou impulsando a exploração do espaço, essa corrida submarina intensificou a exploração dos oceanos. Cada vez mais novas invenções se tornavam capazes de alcançar pontos ainda mais profundos. Nos anos 1900 e 30, americanos William Beak e Oldie's Barkton foram os primeiros atingios mil metros de profundidade. Eles usaram uma mate esfera, que é essa bola de ferro minúsculo, só de rapaz ferram da constrafobia. E essa marca foi sendo trapassada em outros mergulhos nas décadas seguintes. Quando normes importantes para o oceanografia fizeram grandes avanços para ciência. E até para o cinema. Foi o caso do documentarista francês, Jacks Custow, que desenvolveu nos anos 40 ou Aqua Lung. Que era um equipamento com cilindros de ar para poder filmar na água com mais facilidade. Mas foi o 23 de janeiro de 1960, que a história definitivamente foi escrita. O explorador suíso, Jacks Picard e o americano Don Walsh, embarcaram-nos subnessível Trieste. Eles desceram durante exatas 4 horas e 47 minutos em direção à força das Marianas. E se tornaram os primeiros seres humanos de todos os tempos, alcançar o ponto mais profundo do planeta T. Isso aconteceu quase uma década antes da chegada do primeiro homem-aldua. E assim como na conquista espacial, foi um feito que se repetiu poucas vezes da lindia antes. Na verdade, a pessoa seguinte a descer até a força das Marianas, só fez isso mais de 50 anos depois, em 2012. E foi ninguém menos do que James Cameron. O diretor de Titelic. Não do navio do filme. Ele é um apaixonado pelo mundo embaixo da água. Isso significa que durante muito tempo da nossa história, mais seres humanos já tinham pisado na rua do que chegado no fundo dos ocêanos da nossa planeta. Afinal, 12 pessoas já estiveram na rua. Foi só alguns anos atrás que o time dos exploradores aquáticos virou o jogo contra o time dos astronautas. E isso só foi possível graças a criação do Mimit Infector, que é um veículo suco marino ultra moderno que já fez cerca de 20 viagens ao fundo do mar. E com isso, hoje em dia, 27 pessoas já chegaram aos quase 11 mil metros de profundidade da terra. Mas como exatamente a gente sabe essa metida? Não só da força das Marianas, mas de todos os outros pontos profundos do ocêano. Afinal, se é uma região tão inesplurada, então quem garante que não existe um ponto ainda mais fundo. Pois então, um mapeamento do leito marinho é um grande desafio. Inclusive, até os mapas de Marte são melhores do que a cartografia do nosso próprio planeta. Pelo menos se você levar em contos e levos embaixo da área. Os mapas de Marte têm uma resolução de 5 metros por pixel, guardem isso. Já no caso dos ocêanos, cada pixel engloba cerca de 1500 metros, ou seja, o nível de definição é muito menor. E uma das causas é que os satélites não conseguem fotografar o fundo do mar. Mesmo assim, as fotos à distância podem ajudar de uma outra maneira que é bem inusitada. Você talvez não saiba, mas o mar não é exatamente todo o reto, lisinho. Existem pequenas oriações que são partes um pouco mais altas, e algumas outras partes um pouco mais baixas. E isso, a atenção, é um reflexo do formato do solo milhari de quilômetros lá embaixo. Ou seja, se existe uma pequena montanha lá no leito cêânico no fundo, a água nessa região vai ser um pouquinho mais alta do que nos arredóis. E isso permite que mesmo sem entrar na água, a cientista descobrou mais ou menos como que é o formato do fundo do mar. Acontece que esse método não tem tanta precisão. Existem muitas irregularidades no solo surmalino, assim como no solo aqui fora. Então, o jeito para fazer uma medição mais detalhada é recorrer a outras técnicas. E uma das mais tradicionais é a utilização de sonais. Alguém em um barco enviou um sinal pro fundo do mar, e essa pessoa vê quanto tempo demora para esse sinal voltar. E com base nisso é feito o cálculo para descobrir qual é a distância exata daquele ponto. Mas não é muito difícil de imaginar que fazer isso sozinho. Para um mal inteiro, seria um processo que douraria pelo menos décadas. Por isso foi criado uma força tarefa chamada Simbad 2030. Uma iniciativa que reuniu embarcações diferentes partes do mundo. E a ideia desse projeto é mapar até 2030, literalmente todo o solo surmalino. E com muito mais precisão do que os mapas atuais. Lembrando aqueles 1.500 metros por pixel, a ideia é chegar a 800 metros por pixel nos ejorios mais afastadas. E há apenas 3 metros nas ondas mais movimentadas. A missão é difícil, mas o projeto está indo bem. Quando ele começou em 2017, só 6% do fundo do machine se demapiar. E hoje em dia esse número já passou de 20%. E aí existe um temor de que o mapamento detalhado poderia trazer problemas para o meio ambiente. Ele facilitaria a extração de recursos naturais. Muito além do petróleo, a mineração noceana profunda pode levar a exploração de sedimentos como um andanez. Ferro e outros metais. Além dos nódulos pône-metálicos que podem se usar na fabricação de baterias, painéis solares e a também dos trapeg. Bom, de fato ser humano tem a capacidade de causar estrago e tudo que ele toca. Não ator já foram encontrados até essa cola plástica nas voças marianas. Mesmo assim, a gente não pode ter meia informação. O pitapo se manter na ignorância por ter medo do progresso e radicalmente contra ciência e contra o próprio espírito explorador do ser humano. Um estudo em detalhe sobre o que existe no fundo do mar pode oferecer muitos benefícios para todos nós. O mapamento pode facilitar, por exemplo, a busca por distrossos de navios e aviões. A instalação de cabo de internet, o entendimento sobre correntes marítimes, as projeções sobre o aumento do nível do mar e até mesmo as predizões de tsunami. Ou seja, mapear o fundo do mar pode salvar vidas. E ainda ajuda para o seu na humanidade um sentimento empolgante de descoberta. Aquele mesmo ímpeto que levou os nossos antepassados a desbravar os oceanos ou a conquistar o espaço e que agora está acontecendo pela última vez no nosso planeta. Afinal, o fundo do mar é a frontera final para a humanidade na Terra. É a única parte do mundo que ainda é verdadeiramente desconhecida. Um lugar misterioso, repleto de segredos, que aos poucos estão sendo revelados bem diantes nos nossos olhos. E isso é fascinante. Muito obrigado e até a próxima.\n",
      "\n"
     ]
    }
   ],
   "source": [
    "import whisper\n",
    "\n",
    "# load the model\n",
    "model = whisper.load_model(\"base\")\n",
    "\n",
    "# iterate through each video and transcribe\n",
    "results = []\n",
    "for video in vides_details:\n",
    "    result = model.transcribe(video[0])\n",
    "    results.append( result['text'] )\n",
    "    print(f\"Transcription for {video[0]}:\\n{result['text']}\\n\")"
   ]
  },
  {
   "cell_type": "code",
   "execution_count": 5,
   "metadata": {},
   "outputs": [],
   "source": [
    "with open('text.txt', 'w') as file:\n",
    "    for transcription in results:\n",
    "        file.write(transcription + '\\n')"
   ]
  },
  {
   "cell_type": "code",
   "execution_count": 6,
   "metadata": {},
   "outputs": [],
   "source": [
    "from langchain.text_splitter import RecursiveCharacterTextSplitter\n",
    "\n",
    "text_splitter = RecursiveCharacterTextSplitter(\n",
    "    chunk_size=1000, chunk_overlap=0, separators=[\" \", \",\", \"\\n\"]\n",
    "    )\n",
    "\n",
    "# Load the texts\n",
    "with open('text.txt') as f:\n",
    "    text = f.read()\n",
    "texts = text_splitter.split_text(text)"
   ]
  },
  {
   "cell_type": "code",
   "execution_count": 7,
   "metadata": {},
   "outputs": [],
   "source": [
    "from langchain.docstore.document import Document\n",
    "\n",
    "docs = [Document(page_content=t) for t in texts[:4]]"
   ]
  },
  {
   "cell_type": "code",
   "execution_count": 8,
   "metadata": {},
   "outputs": [
    {
     "name": "stderr",
     "output_type": "stream",
     "text": [
      "/home/gustavo-barbosa/anaconda3/envs/genai/lib/python3.11/site-packages/deeplake/util/check_latest_version.py:32: UserWarning: A newer version of deeplake (3.9.8) is available. It's recommended that you update to the latest version using `pip install -U deeplake`.\n",
      "  warnings.warn(\n",
      "/home/gustavo-barbosa/anaconda3/envs/genai/lib/python3.11/site-packages/langchain_core/_api/deprecation.py:119: LangChainDeprecationWarning: The class `OpenAIEmbeddings` was deprecated in LangChain 0.0.9 and will be removed in 0.3.0. An updated version of the class exists in the langchain-openai package and should be used instead. To use it run `pip install -U langchain-openai` and import as `from langchain_openai import OpenAIEmbeddings`.\n",
      "  warn_deprecated(\n",
      "Using embedding function is deprecated and will be removed in the future. Please use embedding instead.\n"
     ]
    },
    {
     "name": "stdout",
     "output_type": "stream",
     "text": [
      "Deep Lake Dataset in hub://gustavobarbosa060/langchain_youtube_summarizer already exists, loading from the storage\n"
     ]
    },
    {
     "name": "stderr",
     "output_type": "stream",
     "text": [
      "Creating 4 embeddings in 1 batches of size 4:: 100%|██████████| 1/1 [00:23<00:00, 23.13s/it]"
     ]
    },
    {
     "name": "stdout",
     "output_type": "stream",
     "text": [
      "Dataset(path='hub://gustavobarbosa060/langchain_youtube_summarizer', tensors=['embedding', 'id', 'metadata', 'text'])\n",
      "\n",
      "  tensor      htype      shape     dtype  compression\n",
      "  -------    -------    -------   -------  ------- \n",
      " embedding  embedding  (8, 1536)  float32   None   \n",
      "    id        text      (8, 1)      str     None   \n",
      " metadata     json      (8, 1)      str     None   \n",
      "   text       text      (8, 1)      str     None   \n"
     ]
    },
    {
     "name": "stderr",
     "output_type": "stream",
     "text": [
      "\n"
     ]
    },
    {
     "data": {
      "text/plain": [
       "['ed7ccd8c-1bac-11ef-b13e-8038fb44b484',\n",
       " 'ed7ccdfa-1bac-11ef-b13e-8038fb44b484',\n",
       " 'ed7cce22-1bac-11ef-b13e-8038fb44b484',\n",
       " 'ed7cce36-1bac-11ef-b13e-8038fb44b484']"
      ]
     },
     "execution_count": 8,
     "metadata": {},
     "output_type": "execute_result"
    }
   ],
   "source": [
    "from langchain.vectorstores import DeepLake\n",
    "from langchain.embeddings.openai import OpenAIEmbeddings\n",
    "\n",
    "embeddings = OpenAIEmbeddings(model='text-embedding-ada-002')\n",
    "\n",
    "# create Deep Lake dataset\n",
    "# TODO: use your organization id here. (by default, org id is your username)\n",
    "my_activeloop_org_id = \"your id\"\n",
    "my_activeloop_dataset_name = \"langchain_youtube_summarizer\"\n",
    "dataset_path = f\"hub://{my_activeloop_org_id}/{my_activeloop_dataset_name}\"\n",
    "\n",
    "db = DeepLake(dataset_path=dataset_path, embedding_function=embeddings)\n",
    "db.add_documents(docs)"
   ]
  },
  {
   "cell_type": "code",
   "execution_count": 9,
   "metadata": {},
   "outputs": [],
   "source": [
    "retriever = db.as_retriever()\n",
    "retriever.search_kwargs['distance_metric'] = 'cos'\n",
    "retriever.search_kwargs['k'] = 4"
   ]
  },
  {
   "cell_type": "code",
   "execution_count": 10,
   "metadata": {},
   "outputs": [],
   "source": [
    "from langchain.prompts import PromptTemplate\n",
    "prompt_template = \"\"\"Use os seguintes trechos das transcrições de um vídeo para responder à pergunta em tópicos e resumido. Se você não souber a resposta, apenas diga que não sabe, não tente inventar uma resposta.\n",
    "\n",
    "{context}\n",
    "\n",
    "Pergunta: {question}\n",
    "Resposta resumida em tópicos:\"\"\"\n",
    "PROMPT = PromptTemplate(\n",
    "    template=prompt_template, input_variables=[\"context\", \"question\"]\n",
    ")"
   ]
  },
  {
   "cell_type": "code",
   "execution_count": 11,
   "metadata": {},
   "outputs": [
    {
     "name": "stderr",
     "output_type": "stream",
     "text": [
      "/home/gustavo-barbosa/anaconda3/envs/genai/lib/python3.11/site-packages/langchain_core/_api/deprecation.py:119: LangChainDeprecationWarning: The method `Chain.run` was deprecated in langchain 0.1.0 and will be removed in 0.3.0. Use invoke instead.\n",
      "  warn_deprecated(\n"
     ]
    },
    {
     "name": "stdout",
     "output_type": "stream",
     "text": [
      "\n",
      "- Não sabemos quase nada sobre o fundo do mar porque é um ambiente extremamente inacessível e hostil.\n",
      "- A pressão nas profundezas do oceano é muito alta, o que dificulta a exploração.\n",
      "- Além disso, a escuridão e a falta de oxigênio também são fatores que tornam difícil a exploração do fundo do mar.\n",
      "- A tecnologia atual ainda não é avançada o suficiente para permitir uma exploração completa e detalhada do fundo do mar.\n",
      "- A maior parte do fundo do mar ainda não foi mapeada ou estudada, o que contribui para o nosso desconhecimento sobre esse ambiente.\n"
     ]
    }
   ],
   "source": [
    "from langchain.chains import RetrievalQA\n",
    "\n",
    "chain_type_kwargs = {\"prompt\": PROMPT}\n",
    "qa = RetrievalQA.from_chain_type(llm=llm,\n",
    "                                 chain_type=\"stuff\",\n",
    "                                 retriever=retriever,\n",
    "                                 chain_type_kwargs=chain_type_kwargs)\n",
    "\n",
    "print( qa.run(\"Resuma o por que NÃO sabemos QUASE NADA sobre o FUNDO do MAR?\") )"
   ]
  }
 ],
 "metadata": {
  "kernelspec": {
   "display_name": "genai",
   "language": "python",
   "name": "python3"
  },
  "language_info": {
   "codemirror_mode": {
    "name": "ipython",
    "version": 3
   },
   "file_extension": ".py",
   "mimetype": "text/x-python",
   "name": "python",
   "nbconvert_exporter": "python",
   "pygments_lexer": "ipython3",
   "version": "3.11.9"
  }
 },
 "nbformat": 4,
 "nbformat_minor": 2
}
